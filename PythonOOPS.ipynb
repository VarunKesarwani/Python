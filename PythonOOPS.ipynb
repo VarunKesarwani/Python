{
 "cells": [
  {
   "cell_type": "code",
   "execution_count": 3,
   "metadata": {},
   "outputs": [
    {
     "name": "stdout",
     "output_type": "stream",
     "text": [
      "<__main__.Great object at 0x0000026557B923D0> <class '__main__.Great'>\n"
     ]
    }
   ],
   "source": [
    "class Great:\n",
    "    pass\n",
    "\n",
    "obj = Great();\n",
    "print(obj,type(obj))"
   ]
  },
  {
   "cell_type": "code",
   "execution_count": 6,
   "metadata": {},
   "outputs": [
    {
     "name": "stdout",
     "output_type": "stream",
     "text": [
      "Varun Gupta\n",
      "Sriti Gupta\n"
     ]
    }
   ],
   "source": [
    "class Great:\n",
    "    pass\n",
    "\n",
    "obj1 = Great();\n",
    "obj2 = Great();\n",
    "\n",
    "obj1.Name = \"Varun Gupta\"\n",
    "obj1.Pay = 90000\n",
    "\n",
    "obj2.Name = \"Sriti Gupta\"\n",
    "obj2.Pay = 60000\n",
    "\n",
    "print(obj1.Name)\n",
    "print(obj2.Name)"
   ]
  },
  {
   "cell_type": "code",
   "execution_count": 10,
   "metadata": {},
   "outputs": [
    {
     "name": "stdout",
     "output_type": "stream",
     "text": [
      "Varun Gupta\n",
      "Sriti Gupta\n"
     ]
    }
   ],
   "source": [
    "#constructor\n",
    "class Great:\n",
    "    def __init__(self,first,last,pay): #self is instance variale, any method of class can access this\n",
    "        self.Name = first+\" \"+last\n",
    "        self.First = first\n",
    "        self.Last = last\n",
    "        self.Pay = pay\n",
    "\n",
    "obj1 = Great(\"Varun\",\"Gupta\",90000); #obj is transfered to self\n",
    "obj2 = Great(\"Sriti\", \"Gupta\",50000);\n",
    "\n",
    "print(obj1.Name)\n",
    "print(obj2.Name)"
   ]
  },
  {
   "cell_type": "code",
   "execution_count": 5,
   "metadata": {},
   "outputs": [
    {
     "name": "stdout",
     "output_type": "stream",
     "text": [
      "Varun\n"
     ]
    }
   ],
   "source": [
    "class Great:\n",
    "    age = 30 #class variable, shared by all object of class: \"static\"\n",
    "\n",
    "    def __init__(self,first,last,pay):\n",
    "        self.Name = first+\" \"+last\n",
    "        self.First = first\n",
    "        self.Last = last\n",
    "        self.Pay = pay\n",
    "    def email(self):\n",
    "        print(self.First)\n",
    "\n",
    "obj1 = Great(\"Varun\",\"Gupta\",90000);\n",
    "obj1.email()\n"
   ]
  },
  {
   "cell_type": "code",
   "execution_count": 2,
   "metadata": {},
   "outputs": [
    {
     "name": "stdout",
     "output_type": "stream",
     "text": [
      "Varun\n"
     ]
    }
   ],
   "source": [
    "class Great:\n",
    "    age = 30 #class variable, shared by all object of class: \"static\"\n",
    "\n",
    "    def __init__(self,first,last,pay):\n",
    "        self.Name = first+\" \"+last\n",
    "        self.First = first\n",
    "        self.Last = last\n",
    "        self.Pay = pay\n",
    "        \n",
    "    def email(self):\n",
    "        print(self.First)\n",
    "\n",
    "obj1 = Great(\"Varun\",\"Gupta\",90000);\n",
    "Great.email(obj1)"
   ]
  },
  {
   "cell_type": "code",
   "execution_count": 1,
   "metadata": {},
   "outputs": [
    {
     "ename": "AttributeError",
     "evalue": "'Great' object has no attribute 'Name'",
     "output_type": "error",
     "traceback": [
      "\u001b[1;31m---------------------------------------------------------------------------\u001b[0m",
      "\u001b[1;31mAttributeError\u001b[0m                            Traceback (most recent call last)",
      "Input \u001b[1;32mIn [1]\u001b[0m, in \u001b[0;36m<module>\u001b[1;34m\u001b[0m\n\u001b[0;32m     17\u001b[0m obj1 \u001b[38;5;241m=\u001b[39m Great(\u001b[38;5;124m\"\u001b[39m\u001b[38;5;124mVarun\u001b[39m\u001b[38;5;124m\"\u001b[39m,\u001b[38;5;124m\"\u001b[39m\u001b[38;5;124mGupta\u001b[39m\u001b[38;5;124m\"\u001b[39m,\u001b[38;5;241m90000\u001b[39m);\n\u001b[0;32m     18\u001b[0m obj2 \u001b[38;5;241m=\u001b[39m Great(\u001b[38;5;124m\"\u001b[39m\u001b[38;5;124mSriti\u001b[39m\u001b[38;5;124m\"\u001b[39m,\u001b[38;5;124m\"\u001b[39m\u001b[38;5;124mGupta\u001b[39m\u001b[38;5;124m\"\u001b[39m,\u001b[38;5;241m90000\u001b[39m);\n\u001b[1;32m---> 19\u001b[0m \u001b[43mobj1\u001b[49m\u001b[38;5;241;43m.\u001b[39;49m\u001b[43memail\u001b[49m\u001b[43m(\u001b[49m\u001b[43m)\u001b[49m\n\u001b[0;32m     20\u001b[0m Great\u001b[38;5;241m.\u001b[39memail(obj2)\n",
      "Input \u001b[1;32mIn [1]\u001b[0m, in \u001b[0;36mGreat.email\u001b[1;34m(self)\u001b[0m\n\u001b[0;32m     14\u001b[0m \u001b[38;5;28;01mdef\u001b[39;00m \u001b[38;5;21memail\u001b[39m(\u001b[38;5;28mself\u001b[39m):\n\u001b[1;32m---> 15\u001b[0m     \u001b[38;5;28mprint\u001b[39m(\u001b[38;5;28;43mself\u001b[39;49m\u001b[38;5;241;43m.\u001b[39;49m\u001b[43mName\u001b[49m\u001b[38;5;241m+\u001b[39m\u001b[38;5;124m\"\u001b[39m\u001b[38;5;124m@gmail.com\u001b[39m\u001b[38;5;124m\"\u001b[39m)\n",
      "\u001b[1;31mAttributeError\u001b[0m: 'Great' object has no attribute 'Name'"
     ]
    }
   ],
   "source": [
    "class Great:\n",
    "    age = 30 #class variable, shared by all object of class: \"static\"\n",
    "\n",
    "    def __init__(self,first,last,pay):\n",
    "        self.First = first\n",
    "        self.Last = last\n",
    "        self.Pay = pay\n",
    "    \n",
    "    def fullname(self):\n",
    "        self.Name = self.first+\" \"+self.last\n",
    "        print(self.Name)\n",
    "\n",
    "    def email(self):\n",
    "        print(self.Name+\"@gmail.com\")\n",
    "\n",
    "obj1 = Great(\"Varun\",\"Gupta\",90000);\n",
    "obj2 = Great(\"Sriti\",\"Gupta\",90000);\n",
    "obj1.email()\n",
    "Great.email(obj2)"
   ]
  },
  {
   "cell_type": "code",
   "execution_count": 16,
   "metadata": {},
   "outputs": [
    {
     "name": "stdout",
     "output_type": "stream",
     "text": [
      "117000.0\n",
      "65000.0\n"
     ]
    }
   ],
   "source": [
    "class Great:\n",
    "    inc_factor = 1.3\n",
    "\n",
    "    def __init__(self,first,last,pay):\n",
    "        self.First = first\n",
    "        self.Last = last\n",
    "        self.Pay = pay\n",
    "    \n",
    "    def fullname(self):\n",
    "        self.Name = self.first+\" \"+self.last\n",
    "        print(self.Name)\n",
    "\n",
    "    def email(self):\n",
    "        print(self.Name+\"@gmail.com\")\n",
    "    \n",
    "    def increment(self):\n",
    "        self.Pay = self.Pay * Great.inc_factor\n",
    "        print(self.Pay)\n",
    "\n",
    "obj1 = Great(\"Varun\",\"Gupta\",90000);\n",
    "obj2 = Great(\"Sriti\",\"Gupta\",50000);\n",
    "\n",
    "obj1.increment();\n",
    "obj2.increment();"
   ]
  },
  {
   "cell_type": "code",
   "execution_count": 18,
   "metadata": {},
   "outputs": [
    {
     "name": "stdout",
     "output_type": "stream",
     "text": [
      "117000.0\n",
      "65000.0\n"
     ]
    }
   ],
   "source": [
    "class Great:\n",
    "    inc_factor = 1.3\n",
    "    def __init__(self,first,last,pay):\n",
    "        self.First = first\n",
    "        self.Last = last\n",
    "        self.Pay = pay\n",
    "    \n",
    "    def increment(self):\n",
    "        self.Pay = self.Pay * self.inc_factor\n",
    "        print(self.Pay)\n",
    "\n",
    "obj1 = Great(\"Varun\",\"Gupta\",90000);\n",
    "obj2 = Great(\"Sriti\",\"Gupta\",50000);\n",
    "\n",
    "obj1.increment();\n",
    "obj2.increment();"
   ]
  },
  {
   "cell_type": "code",
   "execution_count": 17,
   "metadata": {},
   "outputs": [
    {
     "ename": "NameError",
     "evalue": "name 'inc_factor' is not defined",
     "output_type": "error",
     "traceback": [
      "\u001b[1;31m---------------------------------------------------------------------------\u001b[0m",
      "\u001b[1;31mNameError\u001b[0m                                 Traceback (most recent call last)",
      "Input \u001b[1;32mIn [17]\u001b[0m, in \u001b[0;36m<module>\u001b[1;34m\u001b[0m\n\u001b[0;32m     13\u001b[0m obj1 \u001b[38;5;241m=\u001b[39m Great(\u001b[38;5;124m\"\u001b[39m\u001b[38;5;124mVarun\u001b[39m\u001b[38;5;124m\"\u001b[39m,\u001b[38;5;124m\"\u001b[39m\u001b[38;5;124mGupta\u001b[39m\u001b[38;5;124m\"\u001b[39m,\u001b[38;5;241m90000\u001b[39m);\n\u001b[0;32m     14\u001b[0m obj2 \u001b[38;5;241m=\u001b[39m Great(\u001b[38;5;124m\"\u001b[39m\u001b[38;5;124mSriti\u001b[39m\u001b[38;5;124m\"\u001b[39m,\u001b[38;5;124m\"\u001b[39m\u001b[38;5;124mGupta\u001b[39m\u001b[38;5;124m\"\u001b[39m,\u001b[38;5;241m50000\u001b[39m);\n\u001b[1;32m---> 16\u001b[0m \u001b[43mobj1\u001b[49m\u001b[38;5;241;43m.\u001b[39;49m\u001b[43mincrement\u001b[49m\u001b[43m(\u001b[49m\u001b[43m)\u001b[49m;\n\u001b[0;32m     17\u001b[0m obj2\u001b[38;5;241m.\u001b[39mincrement()\n",
      "Input \u001b[1;32mIn [17]\u001b[0m, in \u001b[0;36mGreat.increment\u001b[1;34m(self)\u001b[0m\n\u001b[0;32m      8\u001b[0m \u001b[38;5;28;01mdef\u001b[39;00m \u001b[38;5;21mincrement\u001b[39m(\u001b[38;5;28mself\u001b[39m):\n\u001b[1;32m----> 9\u001b[0m     \u001b[38;5;28mself\u001b[39m\u001b[38;5;241m.\u001b[39mPay \u001b[38;5;241m=\u001b[39m \u001b[38;5;28mself\u001b[39m\u001b[38;5;241m.\u001b[39mPay \u001b[38;5;241m*\u001b[39m \u001b[43minc_factor\u001b[49m\n\u001b[0;32m     10\u001b[0m     \u001b[38;5;28mprint\u001b[39m(\u001b[38;5;28mself\u001b[39m\u001b[38;5;241m.\u001b[39mPay)\n",
      "\u001b[1;31mNameError\u001b[0m: name 'inc_factor' is not defined"
     ]
    }
   ],
   "source": [
    "class Great:\n",
    "    inc_factor = 1.3\n",
    "    def __init__(self,first,last,pay):\n",
    "        self.First = first\n",
    "        self.Last = last\n",
    "        self.Pay = pay\n",
    "    \n",
    "    def increment(self):\n",
    "        self.Pay = self.Pay * inc_factor #We cannot access directly as this is a class variable.\n",
    "        print(self.Pay)\n",
    "\n",
    "obj1 = Great(\"Varun\",\"Gupta\",90000);\n",
    "obj2 = Great(\"Sriti\",\"Gupta\",50000);\n",
    "\n",
    "obj1.increment();\n",
    "obj2.increment();"
   ]
  },
  {
   "cell_type": "code",
   "execution_count": 19,
   "metadata": {},
   "outputs": [
    {
     "name": "stdout",
     "output_type": "stream",
     "text": [
      "125999.99999999999\n",
      "65000.0\n"
     ]
    }
   ],
   "source": [
    "class Great:\n",
    "    inc_factor = 1.3\n",
    "    def __init__(self,first,last,pay):\n",
    "        self.First = first\n",
    "        self.Last = last\n",
    "        self.Pay = pay\n",
    "    \n",
    "    def increment(self):\n",
    "        self.Pay = self.Pay * self.inc_factor\n",
    "        print(self.Pay)\n",
    "\n",
    "\n",
    "obj1 = Great(\"Varun\",\"Gupta\",90000);\n",
    "obj2 = Great(\"Sriti\",\"Gupta\",50000);\n",
    "\n",
    "obj1.inc_factor = 1.4\n",
    "obj1.increment();\n",
    "obj2.increment();"
   ]
  },
  {
   "cell_type": "code",
   "execution_count": 20,
   "metadata": {},
   "outputs": [
    {
     "name": "stdout",
     "output_type": "stream",
     "text": [
      "117000.0\n",
      "65000.0\n"
     ]
    }
   ],
   "source": [
    "class Great:\n",
    "    inc_factor = 1.3\n",
    "    def __init__(self,first,last,pay):\n",
    "        self.First = first\n",
    "        self.Last = last\n",
    "        self.Pay = pay\n",
    "    \n",
    "    def increment(self):\n",
    "        self.Pay = self.Pay * Great.inc_factor\n",
    "        print(self.Pay)\n",
    "\n",
    "\n",
    "obj1 = Great(\"Varun\",\"Gupta\",90000);\n",
    "obj2 = Great(\"Sriti\",\"Gupta\",50000);\n",
    "\n",
    "obj1.inc_factor = 1.4\n",
    "obj1.increment();\n",
    "obj2.increment();"
   ]
  },
  {
   "cell_type": "code",
   "execution_count": 26,
   "metadata": {},
   "outputs": [
    {
     "name": "stdout",
     "output_type": "stream",
     "text": [
      "125999.99999999999\n",
      "65000.0\n",
      "{'First': 'Varun', 'Last': 'Gupta', 'Pay': 125999.99999999999, 'inc_factor': 1.4}\n",
      "{'First': 'Sriti', 'Last': 'Gupta', 'Pay': 65000.0}\n",
      "{'__module__': '__main__', 'inc_factor': 1.3, '__init__': <function Great.__init__ at 0x00000263751CFC10>, 'increment': <function Great.increment at 0x00000263751CF820>, '__dict__': <attribute '__dict__' of 'Great' objects>, '__weakref__': <attribute '__weakref__' of 'Great' objects>, '__doc__': None}\n"
     ]
    }
   ],
   "source": [
    "class Great:\n",
    "    inc_factor = 1.3\n",
    "    def __init__(self,first,last,pay):\n",
    "        self.First = first\n",
    "        self.Last = last\n",
    "        self.Pay = pay\n",
    "    \n",
    "    def increment(self):\n",
    "        self.Pay = self.Pay * self.inc_factor\n",
    "        print(self.Pay)\n",
    "\n",
    "\n",
    "obj1 = Great(\"Varun\",\"Gupta\",90000);\n",
    "obj2 = Great(\"Sriti\",\"Gupta\",50000);\n",
    "\n",
    "obj1.inc_factor = 1.4\n",
    "obj1.increment();\n",
    "obj2.increment();\n",
    "\n",
    "print(obj1.__dict__)\n",
    "print(obj2.__dict__)\n",
    "print(Great.__dict__)"
   ]
  },
  {
   "cell_type": "code",
   "execution_count": 25,
   "metadata": {},
   "outputs": [
    {
     "name": "stdout",
     "output_type": "stream",
     "text": [
      "117000.0\n",
      "65000.0\n",
      "{'First': 'Varun', 'Last': 'Gupta', 'Pay': 117000.0, 'inc_factor': 1.4}\n",
      "{'First': 'Sriti', 'Last': 'Gupta', 'Pay': 65000.0}\n",
      "{'__module__': '__main__', 'inc_factor': 1.3, '__init__': <function Great.__init__ at 0x00000263751F44C0>, 'increment': <function Great.increment at 0x00000263751F4430>, '__dict__': <attribute '__dict__' of 'Great' objects>, '__weakref__': <attribute '__weakref__' of 'Great' objects>, '__doc__': None}\n"
     ]
    }
   ],
   "source": [
    "class Great:\n",
    "    inc_factor = 1.3\n",
    "    def __init__(self,first,last,pay):\n",
    "        self.First = first\n",
    "        self.Last = last\n",
    "        self.Pay = pay\n",
    "    \n",
    "    def increment(self):\n",
    "        self.Pay = self.Pay * Great.inc_factor\n",
    "        print(self.Pay)\n",
    "\n",
    "\n",
    "obj1 = Great(\"Varun\",\"Gupta\",90000);\n",
    "obj2 = Great(\"Sriti\",\"Gupta\",50000);\n",
    "\n",
    "obj1.inc_factor = 1.4\n",
    "obj1.increment();\n",
    "obj2.increment();\n",
    "\n",
    "print(obj1.__dict__)\n",
    "print(obj2.__dict__)\n",
    "print(Great.__dict__)"
   ]
  },
  {
   "cell_type": "code",
   "execution_count": 27,
   "metadata": {},
   "outputs": [
    {
     "name": "stdout",
     "output_type": "stream",
     "text": [
      "Hello\n"
     ]
    }
   ],
   "source": [
    "#function as variable\n",
    "\n",
    "def fun1():\n",
    "    print(\"Hello\")\n",
    "\n",
    "fun2 = fun1\n",
    "fun2()"
   ]
  },
  {
   "cell_type": "code",
   "execution_count": 28,
   "metadata": {},
   "outputs": [
    {
     "name": "stdout",
     "output_type": "stream",
     "text": [
      "before fun1\n",
      "Hello\n",
      "after fun1\n"
     ]
    }
   ],
   "source": [
    "#inner function\n",
    "\n",
    "def first(fun2):\n",
    "    def inner():\n",
    "        print(\"before fun1\")\n",
    "        fun2()\n",
    "        print(\"after fun1\")\n",
    "    return inner\n",
    "\n",
    "def fun1():\n",
    "    print(\"Hello\")\n",
    "\n",
    "h1 = first(fun1)\n",
    "h1()"
   ]
  },
  {
   "cell_type": "code",
   "execution_count": 29,
   "metadata": {},
   "outputs": [
    {
     "data": {
      "text/plain": [
       "<function __main__.first.<locals>.inner()>"
      ]
     },
     "execution_count": 29,
     "metadata": {},
     "output_type": "execute_result"
    }
   ],
   "source": [
    "#inner function\n",
    "\n",
    "def first(fun2):\n",
    "    def inner():\n",
    "        print(\"before fun1\")\n",
    "        fun2()\n",
    "        print(\"after fun1\")\n",
    "    return inner\n",
    "\n",
    "def fun1():\n",
    "    print(\"Hello\")\n",
    "\n",
    "first(fun1)\n"
   ]
  },
  {
   "cell_type": "code",
   "execution_count": 31,
   "metadata": {},
   "outputs": [
    {
     "name": "stdout",
     "output_type": "stream",
     "text": [
      "Authorize\n",
      "Hello\n"
     ]
    }
   ],
   "source": [
    "#Add extended functionality to a fun\n",
    "\n",
    "def first(fun2):\n",
    "    def inner(a):\n",
    "        if a == \"pass\":\n",
    "            print(\"Authorize\")\n",
    "            fun2()\n",
    "    return inner\n",
    "\n",
    "@first\n",
    "def fun1():\n",
    "    print(\"Hello\")\n",
    "\n",
    "fun1(\"pass\")"
   ]
  },
  {
   "cell_type": "code",
   "execution_count": 37,
   "metadata": {},
   "outputs": [
    {
     "name": "stdout",
     "output_type": "stream",
     "text": [
      "Authorize\n",
      "Hello\n"
     ]
    },
    {
     "ename": "TypeError",
     "evalue": "'NoneType' object is not callable",
     "output_type": "error",
     "traceback": [
      "\u001b[1;31m---------------------------------------------------------------------------\u001b[0m",
      "\u001b[1;31mTypeError\u001b[0m                                 Traceback (most recent call last)",
      "Input \u001b[1;32mIn [37]\u001b[0m, in \u001b[0;36m<module>\u001b[1;34m\u001b[0m\n\u001b[0;32m      9\u001b[0m \u001b[38;5;129m@first\u001b[39m\n\u001b[0;32m     10\u001b[0m \u001b[38;5;28;01mdef\u001b[39;00m \u001b[38;5;21mfun1\u001b[39m():\n\u001b[0;32m     11\u001b[0m     \u001b[38;5;28mprint\u001b[39m(\u001b[38;5;124m\"\u001b[39m\u001b[38;5;124mHello\u001b[39m\u001b[38;5;124m\"\u001b[39m)\n\u001b[1;32m---> 13\u001b[0m \u001b[43mfun1\u001b[49m\u001b[43m(\u001b[49m\u001b[38;5;124;43m\"\u001b[39;49m\u001b[38;5;124;43mpass\u001b[39;49m\u001b[38;5;124;43m\"\u001b[39;49m\u001b[43m)\u001b[49m\n",
      "\u001b[1;31mTypeError\u001b[0m: 'NoneType' object is not callable"
     ]
    }
   ],
   "source": [
    "#Add extended functionality to a fun\n",
    "\n",
    "def first(fun2):\n",
    "    a = \"pass\"\n",
    "    if a == \"pass\":\n",
    "        print(\"Authorize\")\n",
    "        fun2()\n",
    "\n",
    "@first\n",
    "def fun1():\n",
    "    print(\"Hello\")\n",
    "\n",
    "fun1(\"pass\")"
   ]
  },
  {
   "cell_type": "code",
   "execution_count": null,
   "metadata": {},
   "outputs": [],
   "source": []
  }
 ],
 "metadata": {
  "interpreter": {
   "hash": "a8293c6de86a7c788e3b671897fa527d0cb178a8846b58f111b564b67783de3a"
  },
  "kernelspec": {
   "display_name": "Python 3.8.7 64-bit ('.venv': venv)",
   "language": "python",
   "name": "python3"
  },
  "language_info": {
   "codemirror_mode": {
    "name": "ipython",
    "version": 3
   },
   "file_extension": ".py",
   "mimetype": "text/x-python",
   "name": "python",
   "nbconvert_exporter": "python",
   "pygments_lexer": "ipython3",
   "version": "3.8.7"
  },
  "orig_nbformat": 4
 },
 "nbformat": 4,
 "nbformat_minor": 2
}
