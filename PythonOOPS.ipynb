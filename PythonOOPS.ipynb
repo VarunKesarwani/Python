{
 "cells": [
  {
   "cell_type": "code",
   "execution_count": 3,
   "metadata": {},
   "outputs": [
    {
     "name": "stdout",
     "output_type": "stream",
     "text": [
      "<__main__.Great object at 0x0000026557B923D0> <class '__main__.Great'>\n"
     ]
    }
   ],
   "source": [
    "class Great:\n",
    "    pass\n",
    "\n",
    "obj = Great();\n",
    "print(obj,type(obj))"
   ]
  },
  {
   "cell_type": "code",
   "execution_count": 6,
   "metadata": {},
   "outputs": [
    {
     "name": "stdout",
     "output_type": "stream",
     "text": [
      "Varun Gupta\n",
      "Sriti Gupta\n"
     ]
    }
   ],
   "source": [
    "class Great:\n",
    "    pass\n",
    "\n",
    "obj1 = Great();\n",
    "obj2 = Great();\n",
    "\n",
    "obj1.Name = \"Varun Gupta\"\n",
    "obj1.Pay = 90000\n",
    "\n",
    "obj2.Name = \"Sriti Gupta\"\n",
    "obj2.Pay = 60000\n",
    "\n",
    "print(obj1.Name)\n",
    "print(obj2.Name)"
   ]
  },
  {
   "cell_type": "code",
   "execution_count": 10,
   "metadata": {},
   "outputs": [
    {
     "name": "stdout",
     "output_type": "stream",
     "text": [
      "Varun Gupta\n",
      "Sriti Gupta\n"
     ]
    }
   ],
   "source": [
    "#constructor\n",
    "class Great:\n",
    "    def __init__(self,first,last,pay): #self is instance variale, any method of class can access this\n",
    "        self.Name = first+\" \"+last\n",
    "        self.First = first\n",
    "        self.Last = last\n",
    "        self.Pay = pay\n",
    "\n",
    "obj1 = Great(\"Varun\",\"Gupta\",90000); #obj is transfered to self\n",
    "obj2 = Great(\"Sriti\", \"Gupta\",50000);\n",
    "\n",
    "print(obj1.Name)\n",
    "print(obj2.Name)"
   ]
  },
  {
   "cell_type": "code",
   "execution_count": 12,
   "metadata": {},
   "outputs": [
    {
     "name": "stdout",
     "output_type": "stream",
     "text": [
      "Varun\n"
     ]
    }
   ],
   "source": [
    "class Great:\n",
    "    age = 30 #class variable, shared by all object of class: \"static\"\n",
    "\n",
    "    def __init__(self,first,last,pay):\n",
    "        self.Name = first+\" \"+last\n",
    "        self.First = first\n",
    "        self.Last = last\n",
    "        self.Pay = pay\n",
    "    def email(self):\n",
    "        print(self.First)\n",
    "\n",
    "obj1 = Great(\"Varun\",\"Gupta\",90000);\n",
    "obj1.email()\n"
   ]
  },
  {
   "cell_type": "code",
   "execution_count": null,
   "metadata": {},
   "outputs": [],
   "source": []
  }
 ],
 "metadata": {
  "interpreter": {
   "hash": "a8293c6de86a7c788e3b671897fa527d0cb178a8846b58f111b564b67783de3a"
  },
  "kernelspec": {
   "display_name": "Python 3.8.7 64-bit ('.venv': venv)",
   "language": "python",
   "name": "python3"
  },
  "language_info": {
   "codemirror_mode": {
    "name": "ipython",
    "version": 3
   },
   "file_extension": ".py",
   "mimetype": "text/x-python",
   "name": "python",
   "nbconvert_exporter": "python",
   "pygments_lexer": "ipython3",
   "version": "3.8.7"
  },
  "orig_nbformat": 4
 },
 "nbformat": 4,
 "nbformat_minor": 2
}
