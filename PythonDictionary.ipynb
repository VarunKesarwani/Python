{
 "cells": [
  {
   "cell_type": "code",
   "execution_count": null,
   "metadata": {},
   "outputs": [],
   "source": []
  },
  {
   "cell_type": "code",
   "execution_count": 2,
   "metadata": {},
   "outputs": [
    {
     "name": "stdout",
     "output_type": "stream",
     "text": [
      "{20: 'FTP', 21: 'FTP', 22: 'SSH', 23: 'telnet'}\n"
     ]
    }
   ],
   "source": [
    "dict ={20:\"FTP\",21:\"FTP\",22:\"SSH\",23:\"telnet\"}\n",
    "print(dict)"
   ]
  },
  {
   "cell_type": "code",
   "execution_count": 4,
   "metadata": {},
   "outputs": [
    {
     "name": "stdout",
     "output_type": "stream",
     "text": [
      "{20: 'FTP', 21: 'New FTP', 22: 'SSH', 23: 'telnet'}\n"
     ]
    }
   ],
   "source": [
    "dict1 ={20:\"FTP\",21:\"FTP\",22:\"SSH\",23:\"telnet\",21:\"New FTP\"}#21 updates old record\n",
    "print(dict1)"
   ]
  },
  {
   "cell_type": "code",
   "execution_count": 5,
   "metadata": {},
   "outputs": [
    {
     "name": "stdout",
     "output_type": "stream",
     "text": [
      "New FTP\n"
     ]
    }
   ],
   "source": [
    "print(dict1[21])#access using key"
   ]
  },
  {
   "cell_type": "code",
   "execution_count": 6,
   "metadata": {},
   "outputs": [],
   "source": [
    "dict2={}"
   ]
  },
  {
   "cell_type": "code",
   "execution_count": 8,
   "metadata": {},
   "outputs": [
    {
     "name": "stdout",
     "output_type": "stream",
     "text": [
      "{'a': 10, 190: 20, (10, 20): 30}\n"
     ]
    }
   ],
   "source": [
    "dict2[\"a\"]=10\n",
    "dict2[190]=20\n",
    "dict2[(10,20)]=30\n",
    "print(dict2)"
   ]
  },
  {
   "cell_type": "code",
   "execution_count": 9,
   "metadata": {},
   "outputs": [
    {
     "ename": "TypeError",
     "evalue": "unhashable type: 'list'",
     "output_type": "error",
     "traceback": [
      "\u001b[1;31m---------------------------------------------------------------------------\u001b[0m",
      "\u001b[1;31mTypeError\u001b[0m                                 Traceback (most recent call last)",
      "Input \u001b[1;32mIn [9]\u001b[0m, in \u001b[0;36m<module>\u001b[1;34m\u001b[0m\n\u001b[1;32m----> 1\u001b[0m dict2[[\u001b[38;5;241m20\u001b[39m,\u001b[38;5;241m30\u001b[39m]] \u001b[38;5;241m=\u001b[39m \u001b[38;5;241m40\u001b[39m\n\u001b[0;32m      2\u001b[0m \u001b[38;5;28mprint\u001b[39m(dict2)\n",
      "\u001b[1;31mTypeError\u001b[0m: unhashable type: 'list'"
     ]
    }
   ],
   "source": [
    "dict2[[20,30]] = 40 #since list is mutable, thus list cannot be used a key\n",
    "print(dict2)"
   ]
  },
  {
   "cell_type": "code",
   "execution_count": 10,
   "metadata": {},
   "outputs": [
    {
     "ename": "TypeError",
     "evalue": "unhashable type: 'list'",
     "output_type": "error",
     "traceback": [
      "\u001b[1;31m---------------------------------------------------------------------------\u001b[0m",
      "\u001b[1;31mTypeError\u001b[0m                                 Traceback (most recent call last)",
      "Input \u001b[1;32mIn [10]\u001b[0m, in \u001b[0;36m<module>\u001b[1;34m\u001b[0m\n\u001b[1;32m----> 1\u001b[0m dict2[(\u001b[38;5;241m40\u001b[39m,\u001b[38;5;241m50\u001b[39m,[\u001b[38;5;241m60\u001b[39m])] \u001b[38;5;241m=\u001b[39m \u001b[38;5;241m40\u001b[39m\n\u001b[0;32m      2\u001b[0m \u001b[38;5;28mprint\u001b[39m(dict2)\n",
      "\u001b[1;31mTypeError\u001b[0m: unhashable type: 'list'"
     ]
    }
   ],
   "source": [
    "dict2[(40,50,[60])] = 40\n",
    "print(dict2)"
   ]
  },
  {
   "cell_type": "code",
   "execution_count": 11,
   "metadata": {},
   "outputs": [
    {
     "name": "stdout",
     "output_type": "stream",
     "text": [
      "{20: 'FTP', 21: 'FTP', 22: 'SSH', 23: 'telnet', 80: 'http'}\n"
     ]
    }
   ],
   "source": [
    "dict3 ={20:\"FTP\",21:\"FTP\",22:\"SSH\",23:\"telnet\",80:\"http\"}\n",
    "print(dict3)"
   ]
  },
  {
   "cell_type": "code",
   "execution_count": 12,
   "metadata": {},
   "outputs": [
    {
     "data": {
      "text/plain": [
       "False"
      ]
     },
     "execution_count": 12,
     "metadata": {},
     "output_type": "execute_result"
    }
   ],
   "source": [
    "81 in dict3"
   ]
  },
  {
   "cell_type": "code",
   "execution_count": 13,
   "metadata": {},
   "outputs": [
    {
     "name": "stdout",
     "output_type": "stream",
     "text": [
      "http\n"
     ]
    }
   ],
   "source": [
    "k1 = int(input(\"Enter Number\"))\n",
    "print(dict3.get(k1))\n"
   ]
  },
  {
   "cell_type": "code",
   "execution_count": 14,
   "metadata": {},
   "outputs": [
    {
     "name": "stdout",
     "output_type": "stream",
     "text": [
      "None\n"
     ]
    }
   ],
   "source": [
    "k1 = int(input(\"Enter Number\"))\n",
    "print(dict3.get(k1)) #if key not found it will return None"
   ]
  },
  {
   "cell_type": "code",
   "execution_count": 17,
   "metadata": {},
   "outputs": [
    {
     "name": "stdout",
     "output_type": "stream",
     "text": [
      "dict_keys([20, 21, 22, 23, 80])\n"
     ]
    }
   ],
   "source": [
    "print(dict3.keys())"
   ]
  },
  {
   "cell_type": "code",
   "execution_count": 18,
   "metadata": {},
   "outputs": [
    {
     "name": "stdout",
     "output_type": "stream",
     "text": [
      "VMWare\n"
     ]
    }
   ],
   "source": [
    "dict3 ={20:\"FTP\",21:\"FTP\",22:\"SSH\",23:\"telnet\",80:\"http\",(\"h\",1):\"VMWare\"}\n",
    "k1 = eval(input(\"Enter Tuple\"))\n",
    "print(dict3.get(k1,\"key not found\"))"
   ]
  },
  {
   "cell_type": "code",
   "execution_count": 21,
   "metadata": {},
   "outputs": [
    {
     "name": "stdout",
     "output_type": "stream",
     "text": [
      "FTP\n",
      "{20: 'FTP', 21: 'FTP', 22: 'SSH', 23: 'telnet', 80: 'http'}\n"
     ]
    }
   ],
   "source": [
    "#set default\n",
    "dict4 ={20:\"FTP\",21:\"FTP\",22:\"SSH\",23:\"telnet\",80:\"http\"}\n",
    "k1 = eval(input(\"Enter keys\"))\n",
    "print(dict4.setdefault(k1))\n",
    "print(dict4)"
   ]
  },
  {
   "cell_type": "code",
   "execution_count": 22,
   "metadata": {},
   "outputs": [
    {
     "name": "stdout",
     "output_type": "stream",
     "text": [
      "None\n",
      "{20: 'FTP', 21: 'FTP', 22: 'SSH', 23: 'telnet', 80: 'http', 8080: None}\n"
     ]
    }
   ],
   "source": [
    "k1 = eval(input(\"Enter keys\"))\n",
    "print(dict4.setdefault(k1)) #if key is not present it add to dictionary with default value\n",
    "print(dict4)"
   ]
  },
  {
   "cell_type": "code",
   "execution_count": 23,
   "metadata": {},
   "outputs": [
    {
     "name": "stdout",
     "output_type": "stream",
     "text": [
      "default\n",
      "{20: 'FTP', 21: 'FTP', 22: 'SSH', 23: 'telnet', 80: 'http', 8080: None, 5994: 'default'}\n"
     ]
    }
   ],
   "source": [
    "k1 = eval(input(\"Enter keys\"))\n",
    "print(dict4.setdefault(k1,\"default\")) #assigning default value\n",
    "print(dict4)"
   ]
  },
  {
   "cell_type": "code",
   "execution_count": null,
   "metadata": {},
   "outputs": [],
   "source": []
  }
 ],
 "metadata": {
  "interpreter": {
   "hash": "28b81c82e6c6aac2742319b1b815e9a0eadbc4ac799a5d7a865e29a7777bc4e3"
  },
  "kernelspec": {
   "display_name": "Python 3.8.7 64-bit",
   "language": "python",
   "name": "python3"
  },
  "language_info": {
   "codemirror_mode": {
    "name": "ipython",
    "version": 3
   },
   "file_extension": ".py",
   "mimetype": "text/x-python",
   "name": "python",
   "nbconvert_exporter": "python",
   "pygments_lexer": "ipython3",
   "version": "3.8.7"
  },
  "orig_nbformat": 4
 },
 "nbformat": 4,
 "nbformat_minor": 2
}
