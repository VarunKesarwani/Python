{
 "cells": [
  {
   "cell_type": "code",
   "execution_count": 8,
   "metadata": {},
   "outputs": [
    {
     "name": "stdout",
     "output_type": "stream",
     "text": [
      "[1, 2, 3, 'A', 1.4, 'ABX']\n"
     ]
    }
   ],
   "source": [
    "List1 = [6,7,8]\n",
    "List2=[1,2,3,\"A\",1.4,\"ABX\"]\n",
    "print(List2)"
   ]
  },
  {
   "cell_type": "code",
   "execution_count": 10,
   "metadata": {},
   "outputs": [
    {
     "name": "stdout",
     "output_type": "stream",
     "text": [
      "[6, 7, 8, 1, 2, 3, 'A', 1.4, 'ABX']\n",
      "9\n"
     ]
    }
   ],
   "source": [
    "list3 = List1+List2\n",
    "print(list3)\n",
    "print(len(list3))"
   ]
  },
  {
   "cell_type": "code",
   "execution_count": 12,
   "metadata": {},
   "outputs": [
    {
     "name": "stdout",
     "output_type": "stream",
     "text": [
      "['Black Widow', 'Antman', 'Thor', 'Hulk']\n",
      "Hulk\n"
     ]
    }
   ],
   "source": [
    "list4 = [\"Ironman\",\"Antman\",\"Thor\",\"Hulk\"]\n",
    "list4[0]=\"Black Widow\"\n",
    "print(list4)\n",
    "print(list4[-1])"
   ]
  },
  {
   "cell_type": "code",
   "execution_count": 15,
   "metadata": {},
   "outputs": [
    {
     "name": "stdout",
     "output_type": "stream",
     "text": [
      "[30, 40, 50, 60]\n",
      "[30, 50]\n",
      "[30, 50, 70]\n"
     ]
    }
   ],
   "source": [
    "#slicling\n",
    "list5 =[10,20,30,40,50,60,70,80,90,100]\n",
    "print(list5[2:6])#include 2, exlcude 6\n",
    "print(list5[2:6:2])# number of steps is 2\n",
    "print(list5[2:7:2])# number of steps is 2"
   ]
  },
  {
   "cell_type": "code",
   "execution_count": 21,
   "metadata": {},
   "outputs": [
    {
     "name": "stdout",
     "output_type": "stream",
     "text": [
      "[30, 40, 50, 60, 70, 80]\n",
      "[]\n",
      "[80, 70, 60, 50, 40, 30]\n",
      "[10, 20, 30, 40]\n",
      "[50, 60, 70, 80, 90, 100]\n",
      "[70, 80, 90, 100]\n",
      "[100, 90, 80, 70, 60, 50, 40, 30, 20, 10]\n"
     ]
    }
   ],
   "source": [
    "#negative indexes\n",
    "list6 =[10,20,30,40,50,60,70,80,90,100]\n",
    "print(list6[2:-2])\n",
    "print(list6[7:1])\n",
    "print(list6[7:1:-1])#reverse the order of traversal\n",
    "print(list6[:4])#first 4\n",
    "print(list6[4:])#after 4\n",
    "print(list6[-4:])#last4\n",
    "print(list6[::-1])#reversed\n"
   ]
  },
  {
   "cell_type": "code",
   "execution_count": 43,
   "metadata": {},
   "outputs": [
    {
     "name": "stdout",
     "output_type": "stream",
     "text": [
      "[10, 20, 30]\n",
      "[10, 20, 30, [40, 50]]\n",
      "[10, 20, 30, [40, 50], 60, 70]\n"
     ]
    }
   ],
   "source": [
    "List7 = [10,20]\n",
    "List7.append(30)\n",
    "print(List7[:])\n",
    "List7.append([40,50])\n",
    "print(List7[:])\n",
    "List7.extend([60,70])\n",
    "print(List7[:])"
   ]
  },
  {
   "cell_type": "code",
   "execution_count": 30,
   "metadata": {},
   "outputs": [
    {
     "data": {
      "text/plain": [
       "[10, 20, 30, [40, 50], 60, 70]"
      ]
     },
     "execution_count": 30,
     "metadata": {},
     "output_type": "execute_result"
    }
   ],
   "source": [
    "List7+[67,3]# creates a new list with appended value"
   ]
  },
  {
   "cell_type": "code",
   "execution_count": 28,
   "metadata": {},
   "outputs": [
    {
     "data": {
      "text/plain": [
       "[10, 20, 30, [40, 50], 60, 70]"
      ]
     },
     "execution_count": 28,
     "metadata": {},
     "output_type": "execute_result"
    }
   ],
   "source": [
    "List7"
   ]
  },
  {
   "cell_type": "code",
   "execution_count": 34,
   "metadata": {},
   "outputs": [
    {
     "ename": "TypeError",
     "evalue": "'int' object is not iterable",
     "output_type": "error",
     "traceback": [
      "\u001b[1;31m---------------------------------------------------------------------------\u001b[0m",
      "\u001b[1;31mTypeError\u001b[0m                                 Traceback (most recent call last)",
      "Input \u001b[1;32mIn [34]\u001b[0m, in \u001b[0;36m<module>\u001b[1;34m\u001b[0m\n\u001b[1;32m----> 1\u001b[0m \u001b[43mList7\u001b[49m\u001b[38;5;241;43m.\u001b[39;49m\u001b[43mextend\u001b[49m\u001b[43m(\u001b[49m\u001b[38;5;241;43m90\u001b[39;49m\u001b[43m)\u001b[49m\n",
      "\u001b[1;31mTypeError\u001b[0m: 'int' object is not iterable"
     ]
    }
   ],
   "source": [
    "List7.extend(90)# will throw error as extend only except iterator like list tuple array etc"
   ]
  },
  {
   "cell_type": "code",
   "execution_count": 38,
   "metadata": {},
   "outputs": [
    {
     "name": "stdout",
     "output_type": "stream",
     "text": [
      "[10, 20, 30, [40, 50], 60, 70, 'H', 'I', 'T']\n"
     ]
    }
   ],
   "source": [
    "List7.extend(\"HIT\")\n",
    "print(List7)"
   ]
  },
  {
   "cell_type": "code",
   "execution_count": 44,
   "metadata": {},
   "outputs": [
    {
     "name": "stdout",
     "output_type": "stream",
     "text": [
      "[10, 20, 30, [40, 50], 60, 70, 'HIT']\n",
      "[10, 21, 20, 30, [40, 50], 60, 70, 'HIT']\n"
     ]
    }
   ],
   "source": [
    "List7.append(\"HIT\")\n",
    "print(List7)\n",
    "List7.insert(1,21)\n",
    "print(List7)"
   ]
  },
  {
   "cell_type": "code",
   "execution_count": 46,
   "metadata": {},
   "outputs": [
    {
     "name": "stdout",
     "output_type": "stream",
     "text": [
      "Help on method_descriptor:\n",
      "\n",
      "append(self, object, /)\n",
      "    Append object to the end of the list.\n",
      "\n"
     ]
    }
   ],
   "source": [
    "dir(List7) #All methods in list\n",
    "help(list.append)# to know the syntax"
   ]
  },
  {
   "cell_type": "code",
   "execution_count": 50,
   "metadata": {},
   "outputs": [
    {
     "name": "stdout",
     "output_type": "stream",
     "text": [
      "[10, 20, 40, 50]\n"
     ]
    }
   ],
   "source": [
    "List8 =[10,20,30,40,50]\n",
    "del List8[2] # delete without return based on index\n",
    "print(List8)"
   ]
  },
  {
   "cell_type": "code",
   "execution_count": 57,
   "metadata": {},
   "outputs": [
    {
     "name": "stdout",
     "output_type": "stream",
     "text": [
      "30\n",
      "[10, 20, 40, 50]\n"
     ]
    }
   ],
   "source": [
    "List8 =[10,20,30,40,50]\n",
    "print(List8.pop(2))# use pop to remove based on index and also returns poped value\n",
    "print(List8)"
   ]
  },
  {
   "cell_type": "code",
   "execution_count": 58,
   "metadata": {},
   "outputs": [
    {
     "name": "stdout",
     "output_type": "stream",
     "text": [
      "[20, 40, 50]\n"
     ]
    }
   ],
   "source": [
    "List8.remove(10)# remove based on value not index, And remove only first occurance in case of duplicate values.\n",
    "print(List8)"
   ]
  },
  {
   "cell_type": "code",
   "execution_count": 60,
   "metadata": {},
   "outputs": [
    {
     "name": "stdout",
     "output_type": "stream",
     "text": [
      "[1, 2, 3, 4, 5, 6, 4, 7, 8]\n"
     ]
    }
   ],
   "source": [
    "List9=[1,2,3,4,4,5,6,4,7,8]\n",
    "List9.remove(4)\n",
    "print(List9)"
   ]
  }
 ],
 "metadata": {
  "interpreter": {
   "hash": "28b81c82e6c6aac2742319b1b815e9a0eadbc4ac799a5d7a865e29a7777bc4e3"
  },
  "kernelspec": {
   "display_name": "Python 3.8.7 64-bit",
   "language": "python",
   "name": "python3"
  },
  "language_info": {
   "codemirror_mode": {
    "name": "ipython",
    "version": 3
   },
   "file_extension": ".py",
   "mimetype": "text/x-python",
   "name": "python",
   "nbconvert_exporter": "python",
   "pygments_lexer": "ipython3",
   "version": "3.8.7"
  },
  "orig_nbformat": 4
 },
 "nbformat": 4,
 "nbformat_minor": 2
}
