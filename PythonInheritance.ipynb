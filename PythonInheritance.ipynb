{
 "cells": [
  {
   "cell_type": "code",
   "execution_count": 27,
   "metadata": {},
   "outputs": [
    {
     "name": "stdout",
     "output_type": "stream",
     "text": [
      "<__main__.Trainer object at 0x0000019529F1DD30>\n",
      "Varun Gupta\n"
     ]
    }
   ],
   "source": [
    "class Great:\n",
    "    def __init__(self,first,last,pay):\n",
    "        self.Fullname = first+\" \"+last\n",
    "        self.First = first\n",
    "        self.Last = last\n",
    "        self.Pay = pay\n",
    "        \n",
    "    def email(self):\n",
    "        print(self.Fullname)\n",
    "\n",
    "class Trainer(Great):\n",
    "    def __int__(self,first,last,pay,subject):\n",
    "        self.Subject = subject\n",
    "        print(self.Subject)\n",
    "        #Great.__init__(self,first,last,pay)\n",
    "        super().__init__(first,last,pay)\n",
    "\n",
    "obj = Trainer(\"Varun\",\"Gupta\",90000)\n",
    "print(obj)\n",
    "obj.email()"
   ]
  },
  {
   "cell_type": "code",
   "execution_count": 28,
   "metadata": {},
   "outputs": [
    {
     "name": "stdout",
     "output_type": "stream",
     "text": [
      "<__main__.Trainer object at 0x0000019529F1DB20>\n",
      "Varun Gupta\n"
     ]
    }
   ],
   "source": [
    "class Great:\n",
    "    def __init__(self,first,last,pay):\n",
    "        self.Fullname = first+\" \"+last\n",
    "        self.First = first\n",
    "        self.Last = last\n",
    "        self.Pay = pay\n",
    "        \n",
    "    def email(self):\n",
    "        print(self.Fullname)\n",
    "\n",
    "class Trainer(Great):\n",
    "    def __int__(self,first,last,pay,subject):\n",
    "        self.Subject = subject\n",
    "        print(self.Subject)\n",
    "        #Great.__init__(self,first,last,pay)\n",
    "        super().__init__(first,last,pay)\n",
    "        super().email()\n",
    "\n",
    "obj = Trainer(\"Varun\",\"Gupta\",90000)\n",
    "print(obj)\n",
    "obj.email()"
   ]
  },
  {
   "cell_type": "code",
   "execution_count": 29,
   "metadata": {},
   "outputs": [
    {
     "name": "stdout",
     "output_type": "stream",
     "text": [
      "<__main__.Trainer object at 0x0000019529F1DCD0>\n",
      "Varun Gupta@great.com\n"
     ]
    }
   ],
   "source": [
    "#ovverride\n",
    "class Great:\n",
    "    def __init__(self,first,last,pay):\n",
    "        self.Fullname = first+\" \"+last\n",
    "        self.First = first\n",
    "        self.Last = last\n",
    "        self.Pay = pay\n",
    "        \n",
    "    def email(self):\n",
    "        print(self.Fullname+\"@gl.com\")\n",
    "\n",
    "class Trainer(Great):\n",
    "    def __int__(self,first,last,pay,subject):\n",
    "        self.Subject = subject\n",
    "        print(self.Subject)\n",
    "        #Great.__init__(self,first,last,pay)\n",
    "        super().__init__(first,last,pay)\n",
    "    \n",
    "    def email(self):\n",
    "        print(self.Fullname+\"@great.com\")\n",
    "\n",
    "\n",
    "obj = Trainer(\"Varun\",\"Gupta\",90000)\n",
    "print(obj)\n",
    "obj.email()"
   ]
  },
  {
   "cell_type": "code",
   "execution_count": 30,
   "metadata": {},
   "outputs": [
    {
     "data": {
      "text/plain": [
       "'Approved'"
      ]
     },
     "execution_count": 30,
     "metadata": {},
     "output_type": "execute_result"
    }
   ],
   "source": [
    "#Extension Method\n",
    "class Hardware:\n",
    "    def Verify(self,Proc,Brand):\n",
    "        if Proc == \"AMD\" and Brand == \"Dell\":\n",
    "            return (\"Approved\")\n",
    "        else:\n",
    "            return (\"Rejected\")\n",
    "\n",
    "class ExtensionHardwre(Hardware):\n",
    "    pass\n",
    "\n",
    "obj = ExtensionHardwre()\n",
    "obj.Verify(\"AMD\",\"Dell\")"
   ]
  },
  {
   "cell_type": "code",
   "execution_count": 31,
   "metadata": {},
   "outputs": [
    {
     "data": {
      "text/plain": [
       "'Rejected'"
      ]
     },
     "execution_count": 31,
     "metadata": {},
     "output_type": "execute_result"
    }
   ],
   "source": [
    "#Extension Method\n",
    "class Hardware:\n",
    "    def Verify(self,Proc,Brand):\n",
    "        if Proc == \"AMD\" and Brand == \"Dell\":\n",
    "            return (\"Approved\")\n",
    "        else:\n",
    "            return (\"Rejected\")\n",
    "\n",
    "class ExtensionHardwre(Hardware):\n",
    "    def Verify(self,Proc,Brand,graphic):\n",
    "        if graphic == \"NVIDEA\":\n",
    "            return super().Verify(Proc,Brand)\n",
    "\n",
    "\n",
    "obj = ExtensionHardwre()\n",
    "obj.Verify(\"AMD\",\"ACER\",\"NVIDEA\")"
   ]
  },
  {
   "cell_type": "code",
   "execution_count": 32,
   "metadata": {},
   "outputs": [
    {
     "name": "stdout",
     "output_type": "stream",
     "text": [
      "30\n",
      "200\n"
     ]
    }
   ],
   "source": [
    "#multiple inheritance\n",
    "\n",
    "class A:\n",
    "    def sum(self,a,b):\n",
    "        c= a+b\n",
    "        print(c)\n",
    "\n",
    "class B:\n",
    "    def multiple(self,a,b):\n",
    "        c= a*b\n",
    "        print(c)\n",
    "class C (A,B):\n",
    "    pass\n",
    "\n",
    "c1 = C()\n",
    "c1.sum(10,20)\n",
    "c1.multiple(10,20)"
   ]
  },
  {
   "cell_type": "code",
   "execution_count": 33,
   "metadata": {},
   "outputs": [
    {
     "name": "stdout",
     "output_type": "stream",
     "text": [
      "30\n",
      "(<class '__main__.C'>, <class '__main__.A'>, <class '__main__.B'>, <class 'object'>)\n"
     ]
    }
   ],
   "source": [
    "# when both base class have same function, class defined first takes precedence\n",
    "class A:\n",
    "    def sum(self,a,b):\n",
    "        c= a+b\n",
    "        print(c)\n",
    "\n",
    "class B:\n",
    "    def sum(self,a,b):\n",
    "        c= a*b\n",
    "        print(c)\n",
    "class C (A,B):\n",
    "    pass\n",
    "\n",
    "c1 = C()\n",
    "c1.sum(10,20)\n",
    "print(C.__mro__)"
   ]
  },
  {
   "cell_type": "code",
   "execution_count": 34,
   "metadata": {},
   "outputs": [
    {
     "name": "stdout",
     "output_type": "stream",
     "text": [
      "200\n",
      "(<class '__main__.C'>, <class '__main__.B'>, <class '__main__.A'>, <class 'object'>)\n"
     ]
    }
   ],
   "source": [
    "class A:\n",
    "    def sum(self,a,b):\n",
    "        c= a+b\n",
    "        print(c)\n",
    "\n",
    "class B:\n",
    "    def sum(self,a,b):\n",
    "        c= a*b\n",
    "        print(c)\n",
    "class C (B,A):\n",
    "    pass\n",
    "\n",
    "c1 = C()\n",
    "c1.sum(10,20)\n",
    "print(C.__mro__)\n"
   ]
  },
  {
   "cell_type": "code",
   "execution_count": 35,
   "metadata": {},
   "outputs": [
    {
     "name": "stdout",
     "output_type": "stream",
     "text": [
      "30\n",
      "(<class '__main__.C'>, <class '__main__.B'>, <class '__main__.A'>, <class 'object'>)\n"
     ]
    }
   ],
   "source": [
    "class A:\n",
    "    def sum(self,a,b):\n",
    "        c= a+b\n",
    "        print(c)\n",
    "\n",
    "class B(A):\n",
    "    pass\n",
    "\n",
    "class C (B):\n",
    "    pass\n",
    "\n",
    "c1 = C()\n",
    "c1.sum(10,20)\n",
    "print(C.__mro__)"
   ]
  },
  {
   "cell_type": "code",
   "execution_count": 36,
   "metadata": {},
   "outputs": [
    {
     "name": "stdout",
     "output_type": "stream",
     "text": [
      "30\n",
      "(<class '__main__.E'>, <class '__main__.C'>, <class '__main__.B'>, <class '__main__.A'>, <class '__main__.D'>, <class 'object'>)\n"
     ]
    }
   ],
   "source": [
    "#Hybrid\n",
    "class A:\n",
    "    def sum(self,a,b):\n",
    "        c= a+b\n",
    "        print(c)\n",
    "\n",
    "class B(A):\n",
    "    pass\n",
    "\n",
    "class C (B):\n",
    "    pass\n",
    "\n",
    "class D:\n",
    "    pass\n",
    "\n",
    "class E (C,D):\n",
    "    pass\n",
    "\n",
    "c1 = E()\n",
    "c1.sum(10,20)\n",
    "print(E.__mro__)"
   ]
  },
  {
   "cell_type": "code",
   "execution_count": 37,
   "metadata": {},
   "outputs": [
    {
     "name": "stdout",
     "output_type": "stream",
     "text": [
      "class A accessed\n"
     ]
    }
   ],
   "source": [
    "class A():\n",
    "\n",
    "    def disp(self):\n",
    "\n",
    "        print(\"class A accessed\")\n",
    "\n",
    "class B(A):\n",
    "\n",
    "    pass\n",
    "\n",
    "obj = B()\n",
    "\n",
    "obj.disp()"
   ]
  },
  {
   "cell_type": "code",
   "execution_count": null,
   "metadata": {},
   "outputs": [],
   "source": []
  }
 ],
 "metadata": {
  "interpreter": {
   "hash": "a8293c6de86a7c788e3b671897fa527d0cb178a8846b58f111b564b67783de3a"
  },
  "kernelspec": {
   "display_name": "Python 3.8.7 64-bit ('.venv': venv)",
   "language": "python",
   "name": "python3"
  },
  "language_info": {
   "codemirror_mode": {
    "name": "ipython",
    "version": 3
   },
   "file_extension": ".py",
   "mimetype": "text/x-python",
   "name": "python",
   "nbconvert_exporter": "python",
   "pygments_lexer": "ipython3",
   "version": "3.8.7"
  },
  "orig_nbformat": 4
 },
 "nbformat": 4,
 "nbformat_minor": 2
}
