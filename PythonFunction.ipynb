{
 "cells": [
  {
   "cell_type": "code",
   "execution_count": 1,
   "metadata": {},
   "outputs": [
    {
     "name": "stdout",
     "output_type": "stream",
     "text": [
      "hello world\n"
     ]
    }
   ],
   "source": [
    "def fun():\n",
    "    print(\"hello world\")\n",
    "\n",
    "fun()"
   ]
  },
  {
   "cell_type": "code",
   "execution_count": 2,
   "metadata": {},
   "outputs": [
    {
     "name": "stdout",
     "output_type": "stream",
     "text": [
      "30\n"
     ]
    }
   ],
   "source": [
    "def fun(x,y):\n",
    "    print(x+y)\n",
    "\n",
    "fun(10,20)"
   ]
  },
  {
   "cell_type": "code",
   "execution_count": 4,
   "metadata": {},
   "outputs": [
    {
     "name": "stdout",
     "output_type": "stream",
     "text": [
      "30\n"
     ]
    }
   ],
   "source": [
    "def fun(x,y):\n",
    "    c = x+y\n",
    "    return c\n",
    "\n",
    "res = fun(10,20)\n",
    "print(res)"
   ]
  },
  {
   "cell_type": "code",
   "execution_count": 7,
   "metadata": {},
   "outputs": [
    {
     "name": "stdout",
     "output_type": "stream",
     "text": [
      "Varun 33\n",
      "Bhavana 35\n"
     ]
    },
    {
     "data": {
      "text/plain": [
       "'Bhavana 35'"
      ]
     },
     "execution_count": 7,
     "metadata": {},
     "output_type": "execute_result"
    }
   ],
   "source": [
    "#default argu\n",
    "def fun(name,age = 35):\n",
    "    print(name,age)\n",
    "    return name +\" \"+str(age)\n",
    "\n",
    "fun(\"Varun\",33)\n",
    "fun(\"Bhavana\")"
   ]
  },
  {
   "cell_type": "code",
   "execution_count": 8,
   "metadata": {},
   "outputs": [
    {
     "name": "stdout",
     "output_type": "stream",
     "text": [
      "Varun 35 60\n"
     ]
    }
   ],
   "source": [
    "def fun(name,age = 35,marks = 70):\n",
    "    print(name,age,marks)\n",
    "\n",
    "fun(\"Varun\",marks=60)"
   ]
  },
  {
   "cell_type": "code",
   "execution_count": 14,
   "metadata": {},
   "outputs": [
    {
     "name": "stdout",
     "output_type": "stream",
     "text": [
      "2\n",
      "6\n",
      "24\n",
      "120\n",
      "120\n"
     ]
    }
   ],
   "source": [
    "def fun(num1):\n",
    "    if num1 <=1:\n",
    "        return 1\n",
    "    fact = 1\n",
    "    for i in range(2,num1+1):\n",
    "        fact = fact * i\n",
    "    return fact\n",
    "\n",
    "res = fun(5)\n",
    "print(res)\n"
   ]
  },
  {
   "cell_type": "code",
   "execution_count": 15,
   "metadata": {},
   "outputs": [
    {
     "name": "stdout",
     "output_type": "stream",
     "text": [
      "10 (20,)\n",
      "90 ()\n",
      "1 (4, 6, 4, 78, 34, 21)\n"
     ]
    }
   ],
   "source": [
    "# *b argu will be taken as tuple\n",
    "def fun(a,*b):\n",
    "    print(a,b)\n",
    "\n",
    "fun(10,20)\n",
    "fun(90)\n",
    "fun(1,4,6,4,78,34,21)"
   ]
  },
  {
   "cell_type": "code",
   "execution_count": 17,
   "metadata": {},
   "outputs": [
    {
     "name": "stdout",
     "output_type": "stream",
     "text": [
      "{'name': 'Intel', 'Generation': '11', 'Processor': 'i7'}\n"
     ]
    }
   ],
   "source": [
    "def fun(**kwargs): #this will print as dictionary\n",
    "    print(kwargs)\n",
    "\n",
    "fun(name=\"Intel\",Generation = \"11\", Processor=\"i7\")"
   ]
  },
  {
   "cell_type": "code",
   "execution_count": 19,
   "metadata": {},
   "outputs": [
    {
     "name": "stdout",
     "output_type": "stream",
     "text": [
      "[10, 20]\n",
      "[10, 20, 30]\n",
      "[10, 20, 30]\n"
     ]
    }
   ],
   "source": [
    "#pass by value and pass by ref\n",
    "#python we only pass by ref\n",
    "def fun1(list1):\n",
    "    print(list1)\n",
    "    list1.append(30)\n",
    "    print(list1)\n",
    "    \n",
    "list1 = [10,20]\n",
    "fun1(list1)\n",
    "print(list1)"
   ]
  },
  {
   "cell_type": "code",
   "execution_count": 20,
   "metadata": {},
   "outputs": [
    {
     "name": "stdout",
     "output_type": "stream",
     "text": [
      "10\n",
      "20\n",
      "10\n"
     ]
    }
   ],
   "source": [
    "def fun1(a):\n",
    "    print(a)\n",
    "    a = a+10\n",
    "    print(a)\n",
    "\n",
    "a = 10\n",
    "fun1(a)\n",
    "print(a) #value is not updated due to reassignment of a"
   ]
  },
  {
   "cell_type": "code",
   "execution_count": 22,
   "metadata": {},
   "outputs": [
    {
     "name": "stdout",
     "output_type": "stream",
     "text": [
      "10\n",
      "10\n",
      "10\n"
     ]
    }
   ],
   "source": [
    "def fun1(a):\n",
    "    print(a)\n",
    "    a+10\n",
    "    print(a)\n",
    "\n",
    "a = 10\n",
    "fun1(a)\n",
    "print(a)"
   ]
  },
  {
   "cell_type": "code",
   "execution_count": 21,
   "metadata": {},
   "outputs": [
    {
     "name": "stdout",
     "output_type": "stream",
     "text": [
      "20\n"
     ]
    }
   ],
   "source": [
    "def fun():\n",
    "    c=a+10\n",
    "    print(c)\n",
    "\n",
    "a = 10 # this is a global variable\n",
    "fun()"
   ]
  },
  {
   "cell_type": "code",
   "execution_count": 25,
   "metadata": {},
   "outputs": [
    {
     "name": "stdout",
     "output_type": "stream",
     "text": [
      "10\n",
      "20\n",
      "20\n"
     ]
    }
   ],
   "source": [
    "def fun1():\n",
    "    global a\n",
    "    print(a)\n",
    "    a = a+10\n",
    "    print(a)\n",
    "\n",
    "a = 10\n",
    "fun1()\n",
    "print(a)"
   ]
  },
  {
   "cell_type": "code",
   "execution_count": null,
   "metadata": {},
   "outputs": [],
   "source": []
  }
 ],
 "metadata": {
  "interpreter": {
   "hash": "28b81c82e6c6aac2742319b1b815e9a0eadbc4ac799a5d7a865e29a7777bc4e3"
  },
  "kernelspec": {
   "display_name": "Python 3.8.7 64-bit",
   "language": "python",
   "name": "python3"
  },
  "language_info": {
   "codemirror_mode": {
    "name": "ipython",
    "version": 3
   },
   "file_extension": ".py",
   "mimetype": "text/x-python",
   "name": "python",
   "nbconvert_exporter": "python",
   "pygments_lexer": "ipython3",
   "version": "3.8.7"
  },
  "orig_nbformat": 4
 },
 "nbformat": 4,
 "nbformat_minor": 2
}
